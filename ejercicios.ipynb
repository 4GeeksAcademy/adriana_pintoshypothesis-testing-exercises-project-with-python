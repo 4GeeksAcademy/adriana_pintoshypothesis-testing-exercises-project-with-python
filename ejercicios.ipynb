{
 "cells": [
  {
   "cell_type": "code",
   "execution_count": null,
   "metadata": {},
   "outputs": [],
   "source": [
    "import numpy as np\n",
    "import scipy.stats as stats\n",
    "\n",
    "# Proporción de la población\n",
    "poblational_proportion = 0.5  # Se espera que el 50% prefiera café\n",
    "\n",
    "#Ho: La proporcion de tomadores de cafe es del 50%\n",
    "#H1: La proporcion de tomadores de cafe no es del 50%\n",
    "\n"
   ]
  }
 ],
 "metadata": {
  "kernelspec": {
   "display_name": "Python 3",
   "language": "python",
   "name": "python3"
  },
  "language_info": {
   "codemirror_mode": {
    "name": "ipython",
    "version": 3
   },
   "file_extension": ".py",
   "mimetype": "text/x-python",
   "name": "python",
   "nbconvert_exporter": "python",
   "pygments_lexer": "ipython3",
   "version": "3.11.4"
  }
 },
 "nbformat": 4,
 "nbformat_minor": 2
}
